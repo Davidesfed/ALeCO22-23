{
 "cells": [
  {
   "cell_type": "markdown",
   "metadata": {},
   "source": [
    "# Branch & Bound per Knapsack"
   ]
  },
  {
   "cell_type": "code",
   "execution_count": 65,
   "metadata": {},
   "outputs": [],
   "source": [
    "import numpy as np"
   ]
  },
  {
   "cell_type": "markdown",
   "metadata": {},
   "source": [
    "## Istanza di Knapsack"
   ]
  },
  {
   "cell_type": "code",
   "execution_count": 66,
   "metadata": {},
   "outputs": [],
   "source": [
    "N = 5\n",
    "P = np.array([5, 8, 8, 3, 1])\n",
    "W = np.array([3, 7, 9, 4, 2])\n",
    "C = 12\n",
    "\n",
    "#N = 10\n",
    "#P = np.array([10, 5, 4, 5, 3, 6, 2, 2, 4, 1])\n",
    "#W = np.array([10, 5, 4, 6, 4, 8, 3, 4, 10, 5])\n",
    "#C = 40"
   ]
  },
  {
   "cell_type": "markdown",
   "metadata": {},
   "source": [
    "## Implementazione State Space Tree"
   ]
  },
  {
   "cell_type": "code",
   "execution_count": 67,
   "metadata": {},
   "outputs": [],
   "source": [
    "class Node:\n",
    "    def __init__(self, label):\n",
    "        self.label = label\n",
    "        self.children = []\n",
    "        self.parent = None\n",
    "\n",
    "    def setParent(self, parent):\n",
    "        self.parent = parent\n",
    "\n",
    "    def addChildren(self, children):\n",
    "        self.children.extend(children)\n",
    "\n",
    "    def __str__(self):\n",
    "        return str(self.label)\n",
    "        \n",
    "class StateSpaceTree:\n",
    "    def __init__(self, max_length, values):\n",
    "        self.root = Node([])\n",
    "        self.nodes = [self.root]\n",
    "        self.max_length = max_length\n",
    "        self.values = values\n",
    "\n",
    "    def expand(self, node):\n",
    "        if len(node.label) == self.max_length:\n",
    "            return []\n",
    "        children = []\n",
    "        for value in self.values:\n",
    "            label = node.label + [value]\n",
    "            child = Node(label)\n",
    "            child.setParent = node\n",
    "            children.append(child)\n",
    "        node.addChildren(children)\n",
    "        self.nodes.extend(children)\n",
    "        return children"
   ]
  },
  {
   "cell_type": "markdown",
   "metadata": {},
   "source": [
    "## Implementazione Lista dei Live Node"
   ]
  },
  {
   "cell_type": "markdown",
   "metadata": {},
   "source": [
    "### Definizione funzioni guadagno"
   ]
  },
  {
   "cell_type": "code",
   "execution_count": 68,
   "metadata": {},
   "outputs": [],
   "source": [
    "def fw(node):\n",
    "    x = np.array(node.label)\n",
    "    return np.sum(x*W[0:len(x)])\n",
    "\n",
    "def fp(node):\n",
    "    x = np.array(node.label)\n",
    "    return np.sum(x*P[0:len(x)])\n",
    "\n",
    "def g(node):\n",
    "    x = np.array(node.label)\n",
    "    i = len(x)\n",
    "    res = 0\n",
    "    tot_weight = np.sum(x*W[0:i])\n",
    "    while i < N:\n",
    "        if tot_weight + W[i] <= C:\n",
    "            res += P[i]\n",
    "            tot_weight += W[i]\n",
    "            i += 1\n",
    "        else:\n",
    "            res += (C - tot_weight) / W[i] * P[i]\n",
    "            break\n",
    "    return res"
   ]
  },
  {
   "cell_type": "markdown",
   "metadata": {},
   "source": [
    "### Definizione classe Lista"
   ]
  },
  {
   "cell_type": "code",
   "execution_count": 69,
   "metadata": {},
   "outputs": [],
   "source": [
    "class LiveNodesList:\n",
    "    def __init__(self, root, strategy):\n",
    "        self.live_nodes = [root]\n",
    "        self.strategy = strategy\n",
    "\n",
    "    def select(self):\n",
    "        if self.strategy == \"LIFO\":\n",
    "            last = self.live_nodes[-1]\n",
    "            self.live_nodes = self.live_nodes[:-1]\n",
    "            return last\n",
    "        if self.strategy == \"FIFO\":\n",
    "            first = self.live_nodes[0]\n",
    "            self.live_nodes = self.live_nodes[1:]\n",
    "            return first\n",
    "        if self.strategy == \"LC\":\n",
    "            max_node = self.live_nodes[0]\n",
    "            max_profit = fp(max_node) + g(max_node)\n",
    "            for node in self.live_nodes[1:]:\n",
    "                profit = fp(node) + g(node)\n",
    "                if profit > max_profit:\n",
    "                    max_profit = profit\n",
    "                    max_node = node\n",
    "            self.live_nodes.remove(max_node)\n",
    "            return max_node\n",
    "                \n",
    "    def insert(self, node):\n",
    "        self.live_nodes.append(node)\n",
    "\n",
    "    def empty(self):\n",
    "        return len(self.live_nodes) == 0\n",
    "\n",
    "    def __str__(self):\n",
    "        return str([node.label for node in self.live_nodes])"
   ]
  },
  {
   "cell_type": "markdown",
   "metadata": {},
   "source": [
    "## Algoritmo di visita"
   ]
  },
  {
   "cell_type": "code",
   "execution_count": 70,
   "metadata": {},
   "outputs": [
    {
     "name": "stdout",
     "output_type": "stream",
     "text": [
      "\n",
      "Iteration 0\n",
      "Live nodes: [[]]\n",
      "E-node: []\n",
      "The E-node will not be expanded.\n",
      "\n",
      "The answer is: [1, 1, 1, 1, 1, 1, 1, 0, 0, 0] with profit 35 and total weight: 40\n"
     ]
    }
   ],
   "source": [
    "def branchAndBoundForKP(tree):\n",
    "    z_max, x_max = initializeMaxSolution()\n",
    "    live_nodes = LiveNodesList(tree.root, strategy=\"LC\")\n",
    "    iteration = 0\n",
    "    while not live_nodes.empty():\n",
    "        print(f\"\\nIteration {iteration}\")\n",
    "        print(f\"Live nodes: {live_nodes}\")\n",
    "        e_node = live_nodes.select()\n",
    "        print(f\"E-node: {e_node}\")\n",
    "        z = fp(e_node)\n",
    "        if not (fw(e_node) > C or (z + g(e_node)) <= z_max):\n",
    "            if z >= z_max:\n",
    "                z_max = z\n",
    "                x_max = node.label\n",
    "                print(f\"A new max has been found: {z_max}\")\n",
    "            print(\"The E-node will be expanded\")\n",
    "            new_nodes = tree.expand(e_node)\n",
    "            for node in new_nodes:\n",
    "                live_nodes.insert(node)\n",
    "        else:\n",
    "            print(\"The E-node will not be expanded.\")\n",
    "        iteration += 1\n",
    "    return x_max, z_max\n",
    "\n",
    "def initializeMaxSolution():\n",
    "    z = 0\n",
    "    x = [0]*N\n",
    "    tot_weight = 0\n",
    "    i = 0\n",
    "    while tot_weight + W[i] <= C:\n",
    "        z += P[i]\n",
    "        tot_weight += W[i]\n",
    "        x[i] = 1\n",
    "        i += 1\n",
    "    return z, x\n",
    "\n",
    "tree = StateSpaceTree(5, [0,1])\n",
    "z_star = branchAndBoundForKP(tree)\n",
    "print(f\"\\nThe answer is: {z_star[0]} with profit {z_star[1]} and total weight: {np.sum(z_star[0]*W)}\")"
   ]
  }
 ],
 "metadata": {
  "kernelspec": {
   "display_name": "Python 3",
   "language": "python",
   "name": "python3"
  },
  "language_info": {
   "codemirror_mode": {
    "name": "ipython",
    "version": 3
   },
   "file_extension": ".py",
   "mimetype": "text/x-python",
   "name": "python",
   "nbconvert_exporter": "python",
   "pygments_lexer": "ipython3",
   "version": "3.10.8"
  }
 },
 "nbformat": 4,
 "nbformat_minor": 2
}
